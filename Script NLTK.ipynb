{
 "cells": [
  {
   "cell_type": "code",
   "execution_count": 25,
   "metadata": {},
   "outputs": [],
   "source": [
    "import re\n",
    "import tweepy\n",
    "import nltk\n",
    "from nltk.sentiment import SentimentIntensityAnalyzer\n",
    "import matplotlib.pyplot as plt\n",
    "import unicodedata"
   ]
  },
  {
   "cell_type": "markdown",
   "metadata": {},
   "source": [
    "Para iniciarmos este artigo é necessário que você realize três passos simples:\n",
    "\n",
    "1. Instalar o pacote [tweepy](https://docs.tweepy.org/en/stable/) que simplifica o consumo das APIs do Twitter, utilizando o comando `pip install tweepy`.\n",
    "2. No Twitter, além de ter uma conta ativa, ativar seu cadastro como desenvolvedor através deste [link](https://developer.twitter.com/en/portal/dashboard)\n",
    "3. Após atualizar sua conta para o modo desenvolvedor é necessário solicitar a elevação das permissões de acesso, já que as permissões iniciais não são suficientes para a utilização da API. Isso pode ser feito no próprio site do [Twitter Developer](https://developer.twitter.com/en/portal/dashboard)\n",
    "\n",
    "Uma vez que estes passos foram executados é necessário copiar as chaves de autenticação geradas pelo próprio Twitter, você pode fazer isso na página do projeto criado no [Twitter Developer](https://developer.twitter.com/en/portal/dashboard)\n",
    "\n",
    "![title](img/chaves_twitter.png)"
   ]
  },
  {
   "cell_type": "markdown",
   "metadata": {},
   "source": [
    "Conexão com API Twitter"
   ]
  },
  {
   "cell_type": "code",
   "execution_count": 59,
   "metadata": {},
   "outputs": [],
   "source": [
    "def twitter_authentication(consumer_key: str, consumer_secret: str, access_token: str, access_token_secret: str):\n",
    "    api = None\n",
    "    try:\n",
    "        auth = tweepy.OAuthHandler(consumer_key, consumer_secret)\n",
    "        auth.set_access_token(access_token, access_token_secret)\n",
    "        # o comando wait_on_rate_limit evita que suas requisições sejam identificadas erroneamente como uso abusivo\n",
    "        api = tweepy.API(auth, wait_on_rate_limit = True)\n",
    "\n",
    "        return api\n",
    "    except:\n",
    "        print('Error')\n",
    "        return False"
   ]
  },
  {
   "cell_type": "markdown",
   "metadata": {},
   "source": [
    "Método para limpeza de caracteres especiais"
   ]
  },
  {
   "cell_type": "code",
   "execution_count": 54,
   "metadata": {},
   "outputs": [],
   "source": [
    "def clean_tweet(tweet: str):\n",
    "    return ''.join(ch for ch in unicodedata.normalize('NFKD', tweet) if not unicodedata.combining(ch))"
   ]
  },
  {
   "cell_type": "markdown",
   "metadata": {},
   "source": [
    "Análise de sentimento do tweet, usando o método `SentimentIntensityAnalyzer` do pacote `nltk`"
   ]
  },
  {
   "cell_type": "code",
   "execution_count": 69,
   "metadata": {},
   "outputs": [],
   "source": [
    "#create stopwords base\n",
    "stopwords = nltk.corpus.stopwords.words(\"english\")\n",
    "\n",
    "def get_tweet_sentiment(tweet: str) -> dict:\n",
    "    # remove stop words\n",
    "    processed_tweet = clean_tweet(tweet)\n",
    "    processed_tweet = ' '.join([w for w in re.split(\"\\W+\", processed_tweet) if processed_tweet.lower() not in stopwords])\n",
    "    sia = SentimentIntensityAnalyzer()\n",
    "    sia_result = sia.polarity_scores(processed_tweet)\n",
    "    overall_result = ''\n",
    "    if sia_result['pos'] > sia_result['neu'] and sia_result['pos'] > sia_result['neu']: \n",
    "        overall_result = 'positive'\n",
    "    elif sia_result['neg'] > sia_result['neu'] and sia_result['neg'] > sia_result['pos']: \n",
    "        overall_result = 'negative'\n",
    "    else:\n",
    "        overall_result = 'neutral'\n",
    "    return {\n",
    "        'processed_tweet': processed_tweet,\n",
    "        'positive': str(sia_result['pos']),\n",
    "        'neutral': str(sia_result['neu']),\n",
    "        'negative': str(sia_result['neg']),\n",
    "        'overall_result': overall_result\n",
    "    }\n",
    "    "
   ]
  },
  {
   "cell_type": "markdown",
   "metadata": {},
   "source": [
    "Leitura dos tweets com base nas palavras chave informadas, ele irá retornar uma lista com as informações de cada tweet encontrado\n",
    "\n",
    "Este método também fará a chamada o método responsávep pela análise de sentimento."
   ]
  },
  {
   "cell_type": "code",
   "execution_count": 70,
   "metadata": {},
   "outputs": [],
   "source": [
    "def get_tweets(api, search_words, count: int) -> list:\n",
    "    tweets = []\n",
    "\n",
    "    fetched_tweets = tweepy.Cursor(\n",
    "        api.search_tweets, \n",
    "        search_words,\n",
    "        lang=\"en\"\n",
    "    ).items(count)\n",
    "\n",
    "    for tweet in fetched_tweets:\n",
    "        parsed_tweet = {}\n",
    "        parsed_tweet['tweet'] = tweet.text\n",
    "        parsed_tweet['tweet_date'] = tweet.created_at        \n",
    "        sentiment = get_tweet_sentiment(tweet.text)\n",
    "        parsed_tweet['processed_tweet'] = sentiment['processed_tweet']\n",
    "        parsed_tweet['sentiment'] = sentiment['overall_result']\n",
    "        parsed_tweet['perc_positive'] = sentiment['positive']\n",
    "        parsed_tweet['perc_neutral'] = sentiment['neutral']\n",
    "        parsed_tweet['perc_negative'] = sentiment['negative']\n",
    "        parsed_tweet['user_name'] = tweet.user.screen_name\n",
    "        parsed_tweet['profile_creation'] = tweet.user.created_at\n",
    "        parsed_tweet['followers_count'] = tweet.user.followers_count        \n",
    "        if tweet.retweet_count > 0:\n",
    "            if parsed_tweet not in tweets:\n",
    "                tweets.append(parsed_tweet)\n",
    "        else:\n",
    "            tweets.append(parsed_tweet)\n",
    "    return tweets"
   ]
  },
  {
   "cell_type": "markdown",
   "metadata": {},
   "source": [
    "Execução da análise.\n",
    "\n",
    "`Cuidado com a quantidade informada no parâmetro count, colocar um número muito grande de tweets pode bloquear seu acesso`"
   ]
  },
  {
   "cell_type": "code",
   "execution_count": 71,
   "metadata": {},
   "outputs": [
    {
     "name": "stderr",
     "output_type": "stream",
     "text": [
      "Rate limit reached. Sleeping for: 208\n"
     ]
    }
   ],
   "source": [
    "api = twitter_authentication(\n",
    "    consumer_key = 'zZRAdl7a4qcc... ',\n",
    "    consumer_secret = 'oW3SVv6D9Qhi8... ',\n",
    "    access_token = '11233536942868... ',\n",
    "    access_token_secret = 'tQ476g60jUOFm...')\n",
    "\n",
    "tweets = get_tweets(\n",
    "    api, [\"Star Wars\"], \n",
    "    count = 1000\n",
    ")"
   ]
  },
  {
   "cell_type": "markdown",
   "metadata": {},
   "source": [
    "Este foi o resultado da execução\n",
    "\n",
    "![title](img/dataset.jpg)"
   ]
  },
  {
   "cell_type": "markdown",
   "metadata": {},
   "source": [
    "Os métodos abaixo farão uma análise simples sobreo resultado da anális de sentimento"
   ]
  },
  {
   "cell_type": "code",
   "execution_count": 72,
   "metadata": {},
   "outputs": [],
   "source": [
    "def classify_emotions_in_percentage(tweets: list) -> dict:\n",
    "    sentiment_tweets = [tweet for tweet in tweets if tweet['sentiment'] == 'positive']\n",
    "    positive_tweets_percentage = ((len(sentiment_tweets) / len(tweets)) * 100)\n",
    "\n",
    "    sentiment_tweets = [tweet for tweet in tweets if tweet['sentiment'] == 'negative']\n",
    "    negative_tweets_percentage = ((len(sentiment_tweets) / len(tweets)) * 100)    \n",
    "\n",
    "    sentiment_tweets = [tweet for tweet in tweets if tweet['sentiment'] == 'neutral']    \n",
    "    neutral_tweets_percentage = ((len(sentiment_tweets) / len(tweets)) * 100)    \n",
    "\n",
    "    print(\"Tweets percentage\")\n",
    "    print(f'  Positive: {positive_tweets_percentage}')\n",
    "    print(f'  Neutral: {neutral_tweets_percentage}')    \n",
    "    print(f'  Negative: {negative_tweets_percentage}')\n",
    "\n",
    "    return {'Positive': positive_tweets_percentage, 'Neutral': neutral_tweets_percentage, 'Negative': negative_tweets_percentage}"
   ]
  },
  {
   "cell_type": "code",
   "execution_count": 73,
   "metadata": {},
   "outputs": [
    {
     "name": "stdout",
     "output_type": "stream",
     "text": [
      "Tweets percentage\n",
      "  Positive: 0.5\n",
      "  Neutral: 98.0\n",
      "  Negative: 1.5\n"
     ]
    },
    {
     "data": {
      "image/png": "[encoded data removed]",
      "text/plain": [
       "<Figure size 720x360 with 1 Axes>"
      ]
     },
     "metadata": {
      "needs_background": "light"
     },
     "output_type": "display_data"
    }
   ],
   "source": [
    "def visualize_data(data: dict, keyword: str):\n",
    "    emotions = list(data.keys())\n",
    "    percentage = list(data.values())\n",
    "\n",
    "    fig = plt.figure(figsize= (10,5))\n",
    "    plt.bar(emotions, percentage, width = .6)\n",
    "    plt.xlabel('Emotions Analyzed')\n",
    "    plt.ylabel('Emotions Frequency Percentage')\n",
    "    plt.title(f'Sentimental Analysis of keyword: {keyword}')\n",
    "    plt.show()\n",
    "\n",
    "visualize_data(\n",
    "    data = classify_emotions_in_percentage(tweets), \n",
    "    keyword= 'Star Wars'\n",
    ")"
   ]
  }
 ],
 "metadata": {
  "kernelspec": {
   "display_name": "Python 3.10.5 64-bit",
   "language": "python",
   "name": "python3"
  },
  "language_info": {
   "codemirror_mode": {
    "name": "ipython",
    "version": 3
   },
   "file_extension": ".py",
   "mimetype": "text/x-python",
   "name": "python",
   "nbconvert_exporter": "python",
   "pygments_lexer": "ipython3",
   "version": "3.10.5"
  },
  "orig_nbformat": 4,
  "vscode": {
   "interpreter": {
    "hash": "26de051ba29f2982a8de78e945f0abaf191376122a1563185a90213a26c5da77"
   }
  }
 },
 "nbformat": 4,
 "nbformat_minor": 2
}
